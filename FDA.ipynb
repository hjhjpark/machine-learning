{
 "cells": [
  {
   "cell_type": "code",
   "execution_count": 1,
   "metadata": {},
   "outputs": [],
   "source": [
    "import numpy as np\n",
    "import matplotlib.pyplot as plt\n",
    "%matplotlib inline"
   ]
  },
  {
   "cell_type": "code",
   "execution_count": 2,
   "metadata": {},
   "outputs": [],
   "source": [
    "n0=200\n",
    "n1=200\n",
    "\n",
    "mu=[0,0]\n",
    "sigma=np.matrix([[0.9,-0.4],[-0.4,0.3]])\n",
    "\n",
    "x0=np.random.multivariate_normal([2.5,2.5],sigma,n0)\n",
    "x1=np.random.multivariate_normal([1.,1.],sigma,n1)\n",
    "x0=np.asmatrix(x0)\n",
    "x1=np.asmatrix(x1)"
   ]
  },
  {
   "cell_type": "code",
   "execution_count": 3,
   "metadata": {},
   "outputs": [
    {
     "name": "stdout",
     "output_type": "stream",
     "text": [
      "(200, 2)\n",
      "(200, 2)\n"
     ]
    }
   ],
   "source": [
    "print(x0.shape)\n",
    "print(x1.shape)"
   ]
  },
  {
   "cell_type": "code",
   "execution_count": 4,
   "metadata": {},
   "outputs": [
    {
     "name": "stdout",
     "output_type": "stream",
     "text": [
      "[[2.49544563 2.49437984]]\n",
      "[[1.03168584 0.97799958]]\n",
      "[[-1.4637598  -1.51638027]]\n",
      "[[ 0.2700932   0.58486719]\n",
      " [-1.20173605  0.98692765]\n",
      " [ 0.65101916 -0.03715763]\n",
      " [ 0.31072129 -0.14098784]\n",
      " [-1.39073371  0.69974697]\n",
      " [ 1.18563912 -0.65219951]\n",
      " [ 1.02923435 -1.16152904]\n",
      " [ 1.1505128  -1.07849708]\n",
      " [ 0.04808177  0.10537534]\n",
      " [-0.15833016 -0.01338592]\n",
      " [-1.00995545  0.60598092]\n",
      " [ 0.03408138 -0.04468609]\n",
      " [ 0.15355453  0.47991772]\n",
      " [-0.53512213  0.35038113]\n",
      " [ 0.81783436 -0.06053453]\n",
      " [-1.75118411  0.53509149]\n",
      " [ 0.39610562  0.1421169 ]\n",
      " [ 0.84514834 -0.68021471]\n",
      " [ 0.72576997 -0.02699758]\n",
      " [ 0.90842968 -1.21919573]\n",
      " [ 0.53221721  0.30300829]\n",
      " [-1.98155392  0.41884998]\n",
      " [ 1.52794471 -1.17100762]\n",
      " [ 0.78866433 -0.17463731]\n",
      " [-0.08056006  0.2281217 ]\n",
      " [-1.12456387  0.07227067]\n",
      " [ 1.15291474 -0.72292635]\n",
      " [-1.44882158  0.37158353]\n",
      " [-1.18907854  1.0789906 ]\n",
      " [-0.62486551  0.35516928]\n",
      " [-0.16041957  0.0952642 ]\n",
      " [-0.93046011  0.35145828]\n",
      " [ 1.06936463 -0.40836719]\n",
      " [ 0.14162781  0.43040821]\n",
      " [ 0.20644021  0.32136276]\n",
      " [ 0.02915963  0.08058041]\n",
      " [ 0.12717885  0.23090491]\n",
      " [ 0.03723409 -0.40357224]\n",
      " [-0.07711571  0.56166977]\n",
      " [-1.0041843   0.2757503 ]\n",
      " [-0.94385742  0.05388011]\n",
      " [ 1.65646957 -0.97456336]\n",
      " [-0.49014985 -0.19445372]\n",
      " [ 0.86143066 -0.35003011]\n",
      " [ 0.52132893 -0.06916168]\n",
      " [-0.65571809  0.80097796]\n",
      " [ 0.40551863 -0.37230879]\n",
      " [-0.77551176  0.71184952]\n",
      " [-0.63763579 -0.06829969]\n",
      " [ 1.08447605 -0.72335565]\n",
      " [ 0.11217715 -0.22938722]\n",
      " [-0.02515432 -0.1797649 ]\n",
      " [-2.32572906  1.58608707]\n",
      " [ 0.3566306  -0.87099247]\n",
      " [ 0.96805424 -0.10264561]\n",
      " [ 0.48250574 -0.07510206]\n",
      " [ 0.92158906 -0.40522118]\n",
      " [ 0.38082271  0.33059127]\n",
      " [ 0.27477358 -0.29861072]\n",
      " [ 0.75756852 -0.36460004]\n",
      " [-1.33997528  0.42807591]\n",
      " [-0.43502383  0.63731913]\n",
      " [ 0.75923017 -0.30847352]\n",
      " [-0.02151181  0.20324693]\n",
      " [ 0.97002906 -0.15544415]\n",
      " [ 1.25214557 -0.20332327]\n",
      " [ 1.06624068 -1.1670617 ]\n",
      " [-0.71270188  0.21562747]\n",
      " [-1.16899902  0.08831034]\n",
      " [ 0.99155421 -0.63994954]\n",
      " [-2.18260693  0.32336521]\n",
      " [ 0.06389163 -0.33524762]\n",
      " [-0.51579394  0.12229049]\n",
      " [ 0.54760038 -0.0920217 ]\n",
      " [-0.38986396  0.04654415]\n",
      " [-0.80778729  0.36694559]\n",
      " [-0.1212169  -0.29403307]\n",
      " [ 1.65059706 -0.35213529]\n",
      " [-0.12210763  0.73598075]\n",
      " [-0.67024424  0.42568096]\n",
      " [ 0.67013049 -0.17521744]\n",
      " [ 0.86900527 -0.29006801]\n",
      " [ 0.30666685 -0.17828935]\n",
      " [-0.55932474  0.70381167]\n",
      " [ 0.15528146  0.00568328]\n",
      " [-0.57344191 -0.18267775]\n",
      " [-1.17059927 -0.35026554]\n",
      " [ 0.99696788 -0.57451537]\n",
      " [-0.30309326 -0.01734618]\n",
      " [-1.59546026  0.6872215 ]\n",
      " [ 0.48318589  0.19474978]\n",
      " [ 0.7717438  -0.37130257]\n",
      " [-0.90231348  0.03206983]\n",
      " [-1.24004041  0.34222121]\n",
      " [-0.89656644  0.65351391]\n",
      " [-0.01018441 -0.12586457]\n",
      " [-0.19012139  0.38617776]\n",
      " [-0.44119528  0.46745885]\n",
      " [-0.46262305 -0.29656912]\n",
      " [ 0.40161279 -0.43922375]\n",
      " [ 1.51945502 -0.62274923]\n",
      " [ 0.43905524 -0.18641057]\n",
      " [-0.50809888  0.15952011]\n",
      " [-0.49903312  0.21090047]\n",
      " [-1.31966484  0.64238153]\n",
      " [ 1.57113099 -0.66761229]\n",
      " [ 1.8776946  -0.89375913]\n",
      " [-1.13555238  0.44368777]\n",
      " [-0.79413867 -0.13749352]\n",
      " [-0.85843354  0.80672643]\n",
      " [ 0.62100207 -0.72897694]\n",
      " [ 1.61898942 -0.4997503 ]\n",
      " [-0.24863764  0.27031351]\n",
      " [ 0.31259525 -0.11606908]\n",
      " [ 0.10805267  0.00593172]\n",
      " [-0.35822079 -0.02331565]\n",
      " [ 0.35745648 -0.76671555]\n",
      " [-0.37990546  0.19171783]\n",
      " [-1.70862504  0.78233452]\n",
      " [-0.95955868  0.70874735]\n",
      " [-1.11927747  0.98310255]\n",
      " [ 0.38763269 -0.51742367]\n",
      " [ 0.58250014  0.05338818]\n",
      " [ 0.53525424 -0.6647982 ]\n",
      " [ 0.36928453  0.07908568]\n",
      " [ 1.40932014 -0.89348475]\n",
      " [ 0.31171831  0.07960642]\n",
      " [ 0.40231108 -0.05513157]\n",
      " [ 1.19312609 -0.10615195]\n",
      " [-1.31834261  0.57574742]\n",
      " [-0.87680641  0.02764933]\n",
      " [ 1.02676225 -0.19987178]\n",
      " [ 0.20611847 -0.81500995]\n",
      " [ 0.35960107  0.46728353]\n",
      " [ 0.40847157 -0.14316586]\n",
      " [-1.36930847  0.34123992]\n",
      " [ 0.00628726 -0.36437812]\n",
      " [-0.93270084  0.22470499]\n",
      " [-0.52300992  0.18418384]\n",
      " [ 0.26876238  0.1400896 ]\n",
      " [ 1.21160391 -1.00242801]\n",
      " [ 1.51205492 -0.69587719]\n",
      " [ 0.66494213 -0.30240168]\n",
      " [ 0.80099225  0.73905431]\n",
      " [-0.12415402 -0.64358624]\n",
      " [-0.33193157 -0.52754789]\n",
      " [-0.72163791  1.26194388]\n",
      " [-0.56691795  0.50371712]\n",
      " [ 0.02708076 -0.07332387]\n",
      " [-0.61424838  0.28418001]\n",
      " [-1.17440919  0.38656661]\n",
      " [ 0.40655348 -0.27136389]\n",
      " [ 0.16566832  0.3618519 ]\n",
      " [-0.28679896  0.02981896]\n",
      " [-1.98458442  0.60463019]\n",
      " [ 1.7799855  -0.72454143]\n",
      " [ 1.42822728 -0.43324784]\n",
      " [-1.61456281  1.36353367]\n",
      " [-0.97527233  0.31223861]\n",
      " [-0.77513396  0.40525831]\n",
      " [ 1.44536869 -1.01592835]\n",
      " [-0.49480094  0.02804199]\n",
      " [-0.14999092  0.21670168]\n",
      " [-0.70629906  0.45317886]\n",
      " [ 0.09837456  0.10403334]\n",
      " [ 0.08287167  0.07779118]\n",
      " [ 1.54703316 -0.19121082]\n",
      " [ 0.65573048 -0.30948925]\n",
      " [-0.63411109  0.33508098]\n",
      " [-1.70908118  1.3719828 ]\n",
      " [ 0.99973233 -0.76151179]\n",
      " [ 0.40777341  0.13598189]\n",
      " [ 1.03871026 -0.17017526]\n",
      " [-0.56529161  0.28988351]\n",
      " [ 0.33251929 -0.56148612]\n",
      " [ 0.94695941 -0.79671366]\n",
      " [-0.23192369  0.02806983]\n",
      " [-0.47746358 -0.29832572]\n",
      " [-0.43094611 -0.01949973]\n",
      " [ 0.13810356 -0.08273806]\n",
      " [-0.52527786  0.25904744]\n",
      " [-0.08216743 -0.43722593]\n",
      " [ 0.05581679 -0.0187854 ]\n",
      " [ 1.81862309 -0.30131156]\n",
      " [ 0.61870918 -0.07096048]\n",
      " [-0.97358919  1.17896977]\n",
      " [ 0.23149895 -0.45095081]\n",
      " [ 0.22722586  0.19876837]\n",
      " [ 0.41050629  0.13834513]\n",
      " [-1.77568991  0.22883435]\n",
      " [ 0.99364644 -0.59269205]\n",
      " [-0.6734306   0.06152431]\n",
      " [ 0.74482427  0.12732024]\n",
      " [ 0.07033103 -0.23871692]\n",
      " [ 0.38201243 -0.91489528]\n",
      " [-0.87296363 -0.07591884]\n",
      " [ 0.54312583 -0.2291641 ]\n",
      " [-0.36453789  0.50977651]\n",
      " [ 0.2383368   0.36628933]\n",
      " [-0.69395612  0.48147275]]\n",
      "[[1.38111744e-15 4.51860771e-16]]\n",
      "[[3.08642001e-16 5.10702591e-17]]\n"
     ]
    }
   ],
   "source": [
    "mu0=np.mean(x0,axis=0)\n",
    "mu1=np.mean(x1,axis=0)\n",
    "print(mu0)\n",
    "print(mu1)\n",
    "print(mu1-mu0)\n",
    "print(x0-mu0)\n",
    "print(np.mean(x0-mu0,axis=0))\n",
    "print(np.mean(x1-mu1,axis=0))"
   ]
  },
  {
   "cell_type": "code",
   "execution_count": 68,
   "metadata": {},
   "outputs": [],
   "source": [
    "import cvxpy as cvx "
   ]
  },
  {
   "cell_type": "code",
   "execution_count": 7,
   "metadata": {
    "scrolled": true
   },
   "outputs": [
    {
     "data": {
      "image/png": "[encoded data removed]",
      "text/plain": [
       "<Figure size 720x576 with 1 Axes>"
      ]
     },
     "metadata": {
      "needs_background": "light"
     },
     "output_type": "display_data"
    }
   ],
   "source": [
    "plt.figure(figsize=(10,8))\n",
    "plt.plot(x0[:,0],x0[:,1],'r.')\n",
    "plt.plot(x1[:,0],x1[:,1],'b.')\n",
    "plt.show()"
   ]
  },
  {
   "cell_type": "code",
   "execution_count": 5,
   "metadata": {},
   "outputs": [
    {
     "name": "stdout",
     "output_type": "stream",
     "text": [
      "[[157.96169443 -67.18642985]\n",
      " [-67.18642985  53.61288633]]\n",
      "[[ 0.79377736 -0.33762025]\n",
      " [-0.33762025  0.26941149]]\n",
      "[[ 0.88093763 -0.42432905]\n",
      " [-0.42432905  0.31129654]]\n",
      "[[556.36813034]]\n"
     ]
    }
   ],
   "source": [
    "S0=(1./(x0.shape[0]-1))*(x0-mu0).T*(x0-mu0)\n",
    "print((x0-mu0).T*(x0-mu0))\n",
    "S1=(1./(x1.shape[0]-1))*(x1-mu1).T*(x1-mu1)\n",
    "\n",
    "\n",
    "#S0=np.asmatrix(S0)\n",
    "#S1=np.asmatrix(S1)\n",
    "print(S0)\n",
    "print(S1)\n",
    "w=np.array([[2],[3]])\n",
    "print(w.T*(n0*S0+n1*S1)*w)"
   ]
  },
  {
   "cell_type": "code",
   "execution_count": 90,
   "metadata": {},
   "outputs": [
    {
     "name": "stdout",
     "output_type": "stream",
     "text": [
      "0 + 421.1898140463546 * quad_over_lin([[-0.15099062 -0.28477034]\n",
      " [-0.88349286  0.46844462]] * var14, 1)\n"
     ]
    },
    {
     "ename": "DCPError",
     "evalue": "Can only divide by a scalar constant.",
     "output_type": "error",
     "traceback": [
      "\u001b[1;31m---------------------------------------------------------------------------\u001b[0m",
      "\u001b[1;31mDCPError\u001b[0m                                  Traceback (most recent call last)",
      "\u001b[1;32m<ipython-input-90-691f29dc8cde>\u001b[0m in \u001b[0;36m<module>\u001b[1;34m\u001b[0m\n\u001b[0;32m      1\u001b[0m \u001b[0mw\u001b[0m\u001b[1;33m=\u001b[0m\u001b[0mcvx\u001b[0m\u001b[1;33m.\u001b[0m\u001b[0mVariable\u001b[0m\u001b[1;33m(\u001b[0m\u001b[1;36m2\u001b[0m\u001b[1;33m,\u001b[0m\u001b[1;36m1\u001b[0m\u001b[1;33m)\u001b[0m\u001b[1;33m\u001b[0m\u001b[1;33m\u001b[0m\u001b[0m\n\u001b[0;32m      2\u001b[0m \u001b[0mprint\u001b[0m\u001b[1;33m(\u001b[0m\u001b[0mcvx\u001b[0m\u001b[1;33m.\u001b[0m\u001b[0mquad_form\u001b[0m\u001b[1;33m(\u001b[0m\u001b[0mw\u001b[0m\u001b[1;33m,\u001b[0m\u001b[0mn0\u001b[0m\u001b[1;33m*\u001b[0m\u001b[0mS0\u001b[0m\u001b[1;33m+\u001b[0m\u001b[0mn1\u001b[0m\u001b[1;33m*\u001b[0m\u001b[0mS1\u001b[0m\u001b[1;33m)\u001b[0m\u001b[1;33m)\u001b[0m\u001b[1;33m\u001b[0m\u001b[1;33m\u001b[0m\u001b[0m\n\u001b[1;32m----> 3\u001b[1;33m \u001b[0mobjective\u001b[0m\u001b[1;33m=\u001b[0m\u001b[1;33m(\u001b[0m\u001b[0mmu0\u001b[0m\u001b[1;33m-\u001b[0m\u001b[0mmu1\u001b[0m\u001b[1;33m)\u001b[0m\u001b[1;33m*\u001b[0m\u001b[0mw\u001b[0m\u001b[1;33m/\u001b[0m\u001b[1;33m(\u001b[0m\u001b[0mcvx\u001b[0m\u001b[1;33m.\u001b[0m\u001b[0mquad_form\u001b[0m\u001b[1;33m(\u001b[0m\u001b[0mw\u001b[0m\u001b[1;33m,\u001b[0m\u001b[0mn0\u001b[0m\u001b[1;33m*\u001b[0m\u001b[0mS0\u001b[0m\u001b[1;33m+\u001b[0m\u001b[0mn1\u001b[0m\u001b[1;33m*\u001b[0m\u001b[0mS1\u001b[0m\u001b[1;33m)\u001b[0m\u001b[1;33m)\u001b[0m\u001b[1;33m\u001b[0m\u001b[1;33m\u001b[0m\u001b[0m\n\u001b[0m\u001b[0;32m      4\u001b[0m \u001b[0mobj\u001b[0m\u001b[1;33m=\u001b[0m\u001b[0mcvx\u001b[0m\u001b[1;33m.\u001b[0m\u001b[0mMaximize\u001b[0m\u001b[1;33m(\u001b[0m\u001b[0mobjective\u001b[0m\u001b[1;33m)\u001b[0m\u001b[1;33m\u001b[0m\u001b[1;33m\u001b[0m\u001b[0m\n\u001b[0;32m      5\u001b[0m \u001b[0mprob\u001b[0m\u001b[1;33m=\u001b[0m\u001b[0mcvx\u001b[0m\u001b[1;33m.\u001b[0m\u001b[0mProblem\u001b[0m\u001b[1;33m(\u001b[0m\u001b[0mobj\u001b[0m\u001b[1;33m)\u001b[0m\u001b[1;33m\u001b[0m\u001b[1;33m\u001b[0m\u001b[0m\n",
      "\u001b[1;32m~\\Anaconda3\\lib\\site-packages\\cvxpy\\expressions\\expression.py\u001b[0m in \u001b[0;36mcast_op\u001b[1;34m(self, other)\u001b[0m\n\u001b[0;32m     39\u001b[0m         \"\"\"\n\u001b[0;32m     40\u001b[0m         \u001b[0mother\u001b[0m \u001b[1;33m=\u001b[0m \u001b[0mself\u001b[0m\u001b[1;33m.\u001b[0m\u001b[0mcast_to_const\u001b[0m\u001b[1;33m(\u001b[0m\u001b[0mother\u001b[0m\u001b[1;33m)\u001b[0m\u001b[1;33m\u001b[0m\u001b[1;33m\u001b[0m\u001b[0m\n\u001b[1;32m---> 41\u001b[1;33m         \u001b[1;32mreturn\u001b[0m \u001b[0mbinary_op\u001b[0m\u001b[1;33m(\u001b[0m\u001b[0mself\u001b[0m\u001b[1;33m,\u001b[0m \u001b[0mother\u001b[0m\u001b[1;33m)\u001b[0m\u001b[1;33m\u001b[0m\u001b[1;33m\u001b[0m\u001b[0m\n\u001b[0m\u001b[0;32m     42\u001b[0m     \u001b[1;32mreturn\u001b[0m \u001b[0mcast_op\u001b[0m\u001b[1;33m\u001b[0m\u001b[1;33m\u001b[0m\u001b[0m\n\u001b[0;32m     43\u001b[0m \u001b[1;33m\u001b[0m\u001b[0m\n",
      "\u001b[1;32m~\\Anaconda3\\lib\\site-packages\\cvxpy\\expressions\\expression.py\u001b[0m in \u001b[0;36m__truediv__\u001b[1;34m(self, other)\u001b[0m\n\u001b[0;32m    304\u001b[0m         \"\"\"One expression divided by another.\n\u001b[0;32m    305\u001b[0m         \"\"\"\n\u001b[1;32m--> 306\u001b[1;33m         \u001b[1;32mreturn\u001b[0m \u001b[0mself\u001b[0m\u001b[1;33m.\u001b[0m\u001b[0m__div__\u001b[0m\u001b[1;33m(\u001b[0m\u001b[0mother\u001b[0m\u001b[1;33m)\u001b[0m\u001b[1;33m\u001b[0m\u001b[1;33m\u001b[0m\u001b[0m\n\u001b[0m\u001b[0;32m    307\u001b[0m \u001b[1;33m\u001b[0m\u001b[0m\n\u001b[0;32m    308\u001b[0m     \u001b[1;33m@\u001b[0m\u001b[0m_cast_other\u001b[0m\u001b[1;33m\u001b[0m\u001b[1;33m\u001b[0m\u001b[0m\n",
      "\u001b[1;32m~\\Anaconda3\\lib\\site-packages\\cvxpy\\expressions\\expression.py\u001b[0m in \u001b[0;36mcast_op\u001b[1;34m(self, other)\u001b[0m\n\u001b[0;32m     39\u001b[0m         \"\"\"\n\u001b[0;32m     40\u001b[0m         \u001b[0mother\u001b[0m \u001b[1;33m=\u001b[0m \u001b[0mself\u001b[0m\u001b[1;33m.\u001b[0m\u001b[0mcast_to_const\u001b[0m\u001b[1;33m(\u001b[0m\u001b[0mother\u001b[0m\u001b[1;33m)\u001b[0m\u001b[1;33m\u001b[0m\u001b[1;33m\u001b[0m\u001b[0m\n\u001b[1;32m---> 41\u001b[1;33m         \u001b[1;32mreturn\u001b[0m \u001b[0mbinary_op\u001b[0m\u001b[1;33m(\u001b[0m\u001b[0mself\u001b[0m\u001b[1;33m,\u001b[0m \u001b[0mother\u001b[0m\u001b[1;33m)\u001b[0m\u001b[1;33m\u001b[0m\u001b[1;33m\u001b[0m\u001b[0m\n\u001b[0m\u001b[0;32m     42\u001b[0m     \u001b[1;32mreturn\u001b[0m \u001b[0mcast_op\u001b[0m\u001b[1;33m\u001b[0m\u001b[1;33m\u001b[0m\u001b[0m\n\u001b[0;32m     43\u001b[0m \u001b[1;33m\u001b[0m\u001b[0m\n",
      "\u001b[1;32m~\\Anaconda3\\lib\\site-packages\\cvxpy\\expressions\\expression.py\u001b[0m in \u001b[0;36m__div__\u001b[1;34m(self, other)\u001b[0m\n\u001b[0;32m    314\u001b[0m             \u001b[1;32mreturn\u001b[0m \u001b[0mcvxtypes\u001b[0m\u001b[1;33m.\u001b[0m\u001b[0mdiv_expr\u001b[0m\u001b[1;33m(\u001b[0m\u001b[1;33m)\u001b[0m\u001b[1;33m(\u001b[0m\u001b[0mself\u001b[0m\u001b[1;33m,\u001b[0m \u001b[0mother\u001b[0m\u001b[1;33m)\u001b[0m\u001b[1;33m\u001b[0m\u001b[1;33m\u001b[0m\u001b[0m\n\u001b[0;32m    315\u001b[0m         \u001b[1;32melse\u001b[0m\u001b[1;33m:\u001b[0m\u001b[1;33m\u001b[0m\u001b[1;33m\u001b[0m\u001b[0m\n\u001b[1;32m--> 316\u001b[1;33m             \u001b[1;32mraise\u001b[0m \u001b[0mDCPError\u001b[0m\u001b[1;33m(\u001b[0m\u001b[1;34m\"Can only divide by a scalar constant.\"\u001b[0m\u001b[1;33m)\u001b[0m\u001b[1;33m\u001b[0m\u001b[1;33m\u001b[0m\u001b[0m\n\u001b[0m\u001b[0;32m    317\u001b[0m \u001b[1;33m\u001b[0m\u001b[0m\n\u001b[0;32m    318\u001b[0m     \u001b[1;33m@\u001b[0m\u001b[0m_cast_other\u001b[0m\u001b[1;33m\u001b[0m\u001b[1;33m\u001b[0m\u001b[0m\n",
      "\u001b[1;31mDCPError\u001b[0m: Can only divide by a scalar constant."
     ]
    }
   ],
   "source": [
    "w=cvx.Variable(2,1)\n",
    "print(cvx.quad_form(w,n0*S0+n1*S1))\n",
    "objective=(mu0-mu1)*w/(cvx.quad_form(w,n0*S0+n1*S1))\n",
    "obj=cvx.Maximize(objective)\n",
    "prob=cvx.Problem(obj)\n",
    "result=prob.solve()\n"
   ]
  },
  {
   "cell_type": "code",
   "execution_count": 91,
   "metadata": {},
   "outputs": [],
   "source": [
    "cvx.quad_form?"
   ]
  },
  {
   "cell_type": "code",
   "execution_count": 6,
   "metadata": {},
   "outputs": [],
   "source": [
    "from sklearn import discriminant_analysis"
   ]
  },
  {
   "cell_type": "code",
   "execution_count": 7,
   "metadata": {},
   "outputs": [
    {
     "name": "stdout",
     "output_type": "stream",
     "text": [
      "(400, 2)\n",
      "(400, 1)\n"
     ]
    }
   ],
   "source": [
    "X=np.vstack([x0,x1])\n",
    "y=np.vstack([np.zeros((n0,1)),np.ones((n1,1))])\n",
    "print(X.shape)\n",
    "print(y.shape)"
   ]
  },
  {
   "cell_type": "code",
   "execution_count": 8,
   "metadata": {},
   "outputs": [
    {
     "data": {
      "text/plain": [
       "LinearDiscriminantAnalysis(n_components=None, priors=None, shrinkage=None,\n",
       "              solver='svd', store_covariance=False, tol=0.0001)"
      ]
     },
     "execution_count": 8,
     "metadata": {},
     "output_type": "execute_result"
    }
   ],
   "source": [
    "\n",
    "clf=discriminant_analysis.LinearDiscriminantAnalysis()\n",
    "clf.fit(X,np.ravel(y))"
   ]
  },
  {
   "cell_type": "code",
   "execution_count": 9,
   "metadata": {},
   "outputs": [
    {
     "name": "stdout",
     "output_type": "stream",
     "text": [
      "[[-10.23295301 -18.64922013]] [50.42506936]\n",
      "[[0.00740786 0.00971989]\n",
      " [0.00971989 0.02136368]]\n",
      "(2, 1)\n",
      "[[0.02558238]\n",
      " [0.04662305]]\n"
     ]
    }
   ],
   "source": [
    "w=clf.coef_\n",
    "bias=clf.intercept_\n",
    "print(w,bias)\n",
    "proj_w=(n0*S0 + n1*S1).I*(mu0 - mu1).T\n",
    "print((n0*S0 + n1*S1).I)\n",
    "print(proj_w.shape)\n",
    "print(proj_w)"
   ]
  },
  {
   "cell_type": "code",
   "execution_count": 14,
   "metadata": {},
   "outputs": [
    {
     "data": {
      "image/png": "[encoded data removed]",
      "text/plain": [
       "<Figure size 720x576 with 1 Axes>"
      ]
     },
     "metadata": {
      "needs_background": "light"
     },
     "output_type": "display_data"
    }
   ],
   "source": [
    "xp=np.arange(-2,6,0.1)\n",
    "yp=proj_w[1,0]/proj_w[0,0]*xp\n",
    "proj=-w[0,0]/w[0,1]*xp-bias[0]/w[0,1]\n",
    "plt.figure(figsize=(10,8))\n",
    "plt.plot(xp,yp)\n",
    "plt.plot(xp,proj)\n",
    "plt.plot(x0[:,0],x0[:,1],'r.')\n",
    "plt.plot(x1[:,0],x1[:,1],'b.')\n",
    "plt.ylim([-2, 6])\n",
    "\n",
    "plt.show()"
   ]
  },
  {
   "cell_type": "code",
   "execution_count": null,
   "metadata": {},
   "outputs": [],
   "source": [
    "x0=np.random.multivariate_normal([2.5,2.5],sigma,n0).T\n",
    "x1=np.random.multivariate_normal([1.,1.],sigma,n1).T\n",
    "x0=np.asmatrix(x0)\n",
    "x1=np.asmatrix(x1)"
   ]
  }
 ],
 "metadata": {
  "kernelspec": {
   "display_name": "Python 3",
   "language": "python",
   "name": "python3"
  },
  "language_info": {
   "codemirror_mode": {
    "name": "ipython",
    "version": 3
   },
   "file_extension": ".py",
   "mimetype": "text/x-python",
   "name": "python",
   "nbconvert_exporter": "python",
   "pygments_lexer": "ipython3",
   "version": "3.6.8"
  }
 },
 "nbformat": 4,
 "nbformat_minor": 2
}
